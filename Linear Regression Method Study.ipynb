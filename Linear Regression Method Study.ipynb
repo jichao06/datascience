{
 "metadata": {
  "name": "",
  "signature": "sha256:be81b038e3f2c2fae5649faab530a55893b27af1734d45a85f1d82037efed450"
 },
 "nbformat": 3,
 "nbformat_minor": 0,
 "worksheets": [
  {
   "cells": [
    {
     "cell_type": "code",
     "collapsed": false,
     "input": [
      "%matplotlib inline"
     ],
     "language": "python",
     "metadata": {},
     "outputs": [],
     "prompt_number": 436
    },
    {
     "cell_type": "code",
     "collapsed": false,
     "input": [
      "import pandas as pd\n",
      "import numpy as np\n",
      "import matplotlib.pyplot as plt\n",
      "import os\n",
      "import sys"
     ],
     "language": "python",
     "metadata": {},
     "outputs": [],
     "prompt_number": 437
    },
    {
     "cell_type": "code",
     "collapsed": false,
     "input": [
      "def plot_regression(data, model=None, features=None):\n",
      "    fig, ax = plt.subplots()\n",
      "    ax.plot(data.QUANTITY, label='Actual')\n",
      "    if model and features:\n",
      "        ax.plot(model.predict(data[features]), label='Predicted')\n",
      "    xticks = range(0, len(data), 6)\n",
      "    ax.set_xticks(xticks)\n",
      "    ax.set_xticklabels(data.ix[xticks, 'MONTH'].values, rotation=45)\n",
      "    ax.grid()\n",
      "    ax.legend()\n",
      "    plt.draw()"
     ],
     "language": "python",
     "metadata": {},
     "outputs": [],
     "prompt_number": 438
    },
    {
     "cell_type": "code",
     "collapsed": false,
     "input": [
      "data = pd.read_csv('sam.csv')\n",
      "data.head()"
     ],
     "language": "python",
     "metadata": {},
     "outputs": [
      {
       "html": [
        "<div style=\"max-height:1000px;max-width:1500px;overflow:auto;\">\n",
        "<table border=\"1\" class=\"dataframe\">\n",
        "  <thead>\n",
        "    <tr style=\"text-align: right;\">\n",
        "      <th></th>\n",
        "      <th>MONTH</th>\n",
        "      <th>QUANTITY</th>\n",
        "    </tr>\n",
        "  </thead>\n",
        "  <tbody>\n",
        "    <tr>\n",
        "      <th>0</th>\n",
        "      <td> 201008</td>\n",
        "      <td> 33803</td>\n",
        "    </tr>\n",
        "    <tr>\n",
        "      <th>1</th>\n",
        "      <td> 201009</td>\n",
        "      <td> 18108</td>\n",
        "    </tr>\n",
        "    <tr>\n",
        "      <th>2</th>\n",
        "      <td> 201010</td>\n",
        "      <td> 14210</td>\n",
        "    </tr>\n",
        "    <tr>\n",
        "      <th>3</th>\n",
        "      <td> 201011</td>\n",
        "      <td> 30709</td>\n",
        "    </tr>\n",
        "    <tr>\n",
        "      <th>4</th>\n",
        "      <td> 201012</td>\n",
        "      <td> 43167</td>\n",
        "    </tr>\n",
        "  </tbody>\n",
        "</table>\n",
        "</div>"
       ],
       "metadata": {},
       "output_type": "pyout",
       "prompt_number": 439,
       "text": [
        "    MONTH  QUANTITY\n",
        "0  201008     33803\n",
        "1  201009     18108\n",
        "2  201010     14210\n",
        "3  201011     30709\n",
        "4  201012     43167"
       ]
      }
     ],
     "prompt_number": 439
    },
    {
     "cell_type": "code",
     "collapsed": false,
     "input": [
      "plot_regression(data)"
     ],
     "language": "python",
     "metadata": {},
     "outputs": [
      {
       "metadata": {},
       "output_type": "display_data",
       "png": "[encoded data removed]",
       "text": [
        "<matplotlib.figure.Figure at 0x109cd8710>"
       ]
      }
     ],
     "prompt_number": 440
    },
    {
     "cell_type": "heading",
     "level": 3,
     "metadata": {},
     "source": [
      "Prepare features for training"
     ]
    },
    {
     "cell_type": "heading",
     "level": 4,
     "metadata": {},
     "source": [
      "First add the 'sequence' feature which represent the pass of time"
     ]
    },
    {
     "cell_type": "code",
     "collapsed": false,
     "input": [
      "data['SEQUENCE'] = range(len(data))\n",
      "data['S2'] = np.square(data['SEQUENCE'])"
     ],
     "language": "python",
     "metadata": {},
     "outputs": [],
     "prompt_number": 441
    },
    {
     "cell_type": "heading",
     "level": 4,
     "metadata": {},
     "source": [
      "Next step, create categorical indicator for each month"
     ]
    },
    {
     "cell_type": "code",
     "collapsed": false,
     "input": [
      "for i in range(1,13):\n",
      "    mc_colname = 'MC_%d' % i\n",
      "    data[mc_colname] = 0\n",
      "    data.ix[data.MONTH%100==i, mc_colname] = 1\n",
      "    mp1_colname = 'MP1_%d' % i\n",
      "    data[mp1_colname] = 0\n",
      "    data.ix[data[mc_colname] == 1, mp1_colname] = [1,2,3,4]\n",
      "    \n",
      "    mp2_colname = 'MP2_%d' % i\n",
      "    data[mp2_colname] = np.square(data[mp1_colname])\n",
      "    \n",
      "    \n",
      "data.head()"
     ],
     "language": "python",
     "metadata": {},
     "outputs": [
      {
       "html": [
        "<div style=\"max-height:1000px;max-width:1500px;overflow:auto;\">\n",
        "<table border=\"1\" class=\"dataframe\">\n",
        "  <thead>\n",
        "    <tr style=\"text-align: right;\">\n",
        "      <th></th>\n",
        "      <th>MONTH</th>\n",
        "      <th>QUANTITY</th>\n",
        "      <th>SEQUENCE</th>\n",
        "      <th>S2</th>\n",
        "      <th>MC_1</th>\n",
        "      <th>MP1_1</th>\n",
        "      <th>MP2_1</th>\n",
        "      <th>MC_2</th>\n",
        "      <th>MP1_2</th>\n",
        "      <th>MP2_2</th>\n",
        "      <th>...</th>\n",
        "      <th>MP2_9</th>\n",
        "      <th>MC_10</th>\n",
        "      <th>MP1_10</th>\n",
        "      <th>MP2_10</th>\n",
        "      <th>MC_11</th>\n",
        "      <th>MP1_11</th>\n",
        "      <th>MP2_11</th>\n",
        "      <th>MC_12</th>\n",
        "      <th>MP1_12</th>\n",
        "      <th>MP2_12</th>\n",
        "    </tr>\n",
        "  </thead>\n",
        "  <tbody>\n",
        "    <tr>\n",
        "      <th>0</th>\n",
        "      <td> 201008</td>\n",
        "      <td> 33803</td>\n",
        "      <td> 0</td>\n",
        "      <td>  0</td>\n",
        "      <td> 0</td>\n",
        "      <td> 0</td>\n",
        "      <td> 0</td>\n",
        "      <td> 0</td>\n",
        "      <td> 0</td>\n",
        "      <td> 0</td>\n",
        "      <td>...</td>\n",
        "      <td> 0</td>\n",
        "      <td> 0</td>\n",
        "      <td> 0</td>\n",
        "      <td> 0</td>\n",
        "      <td> 0</td>\n",
        "      <td> 0</td>\n",
        "      <td> 0</td>\n",
        "      <td> 0</td>\n",
        "      <td> 0</td>\n",
        "      <td> 0</td>\n",
        "    </tr>\n",
        "    <tr>\n",
        "      <th>1</th>\n",
        "      <td> 201009</td>\n",
        "      <td> 18108</td>\n",
        "      <td> 1</td>\n",
        "      <td>  1</td>\n",
        "      <td> 0</td>\n",
        "      <td> 0</td>\n",
        "      <td> 0</td>\n",
        "      <td> 0</td>\n",
        "      <td> 0</td>\n",
        "      <td> 0</td>\n",
        "      <td>...</td>\n",
        "      <td> 1</td>\n",
        "      <td> 0</td>\n",
        "      <td> 0</td>\n",
        "      <td> 0</td>\n",
        "      <td> 0</td>\n",
        "      <td> 0</td>\n",
        "      <td> 0</td>\n",
        "      <td> 0</td>\n",
        "      <td> 0</td>\n",
        "      <td> 0</td>\n",
        "    </tr>\n",
        "    <tr>\n",
        "      <th>2</th>\n",
        "      <td> 201010</td>\n",
        "      <td> 14210</td>\n",
        "      <td> 2</td>\n",
        "      <td>  4</td>\n",
        "      <td> 0</td>\n",
        "      <td> 0</td>\n",
        "      <td> 0</td>\n",
        "      <td> 0</td>\n",
        "      <td> 0</td>\n",
        "      <td> 0</td>\n",
        "      <td>...</td>\n",
        "      <td> 0</td>\n",
        "      <td> 1</td>\n",
        "      <td> 1</td>\n",
        "      <td> 1</td>\n",
        "      <td> 0</td>\n",
        "      <td> 0</td>\n",
        "      <td> 0</td>\n",
        "      <td> 0</td>\n",
        "      <td> 0</td>\n",
        "      <td> 0</td>\n",
        "    </tr>\n",
        "    <tr>\n",
        "      <th>3</th>\n",
        "      <td> 201011</td>\n",
        "      <td> 30709</td>\n",
        "      <td> 3</td>\n",
        "      <td>  9</td>\n",
        "      <td> 0</td>\n",
        "      <td> 0</td>\n",
        "      <td> 0</td>\n",
        "      <td> 0</td>\n",
        "      <td> 0</td>\n",
        "      <td> 0</td>\n",
        "      <td>...</td>\n",
        "      <td> 0</td>\n",
        "      <td> 0</td>\n",
        "      <td> 0</td>\n",
        "      <td> 0</td>\n",
        "      <td> 1</td>\n",
        "      <td> 1</td>\n",
        "      <td> 1</td>\n",
        "      <td> 0</td>\n",
        "      <td> 0</td>\n",
        "      <td> 0</td>\n",
        "    </tr>\n",
        "    <tr>\n",
        "      <th>4</th>\n",
        "      <td> 201012</td>\n",
        "      <td> 43167</td>\n",
        "      <td> 4</td>\n",
        "      <td> 16</td>\n",
        "      <td> 0</td>\n",
        "      <td> 0</td>\n",
        "      <td> 0</td>\n",
        "      <td> 0</td>\n",
        "      <td> 0</td>\n",
        "      <td> 0</td>\n",
        "      <td>...</td>\n",
        "      <td> 0</td>\n",
        "      <td> 0</td>\n",
        "      <td> 0</td>\n",
        "      <td> 0</td>\n",
        "      <td> 0</td>\n",
        "      <td> 0</td>\n",
        "      <td> 0</td>\n",
        "      <td> 1</td>\n",
        "      <td> 1</td>\n",
        "      <td> 1</td>\n",
        "    </tr>\n",
        "  </tbody>\n",
        "</table>\n",
        "<p>5 rows \u00d7 40 columns</p>\n",
        "</div>"
       ],
       "metadata": {},
       "output_type": "pyout",
       "prompt_number": 442,
       "text": [
        "    MONTH  QUANTITY  SEQUENCE  S2  MC_1  MP1_1  MP2_1  MC_2  MP1_2  MP2_2  \\\n",
        "0  201008     33803         0   0     0      0      0     0      0      0   \n",
        "1  201009     18108         1   1     0      0      0     0      0      0   \n",
        "2  201010     14210         2   4     0      0      0     0      0      0   \n",
        "3  201011     30709         3   9     0      0      0     0      0      0   \n",
        "4  201012     43167         4  16     0      0      0     0      0      0   \n",
        "\n",
        "   ...    MP2_9  MC_10  MP1_10  MP2_10  MC_11  MP1_11  MP2_11  MC_12  MP1_12  \\\n",
        "0  ...        0      0       0       0      0       0       0      0       0   \n",
        "1  ...        1      0       0       0      0       0       0      0       0   \n",
        "2  ...        0      1       1       1      0       0       0      0       0   \n",
        "3  ...        0      0       0       0      1       1       1      0       0   \n",
        "4  ...        0      0       0       0      0       0       0      1       1   \n",
        "\n",
        "   MP2_12  \n",
        "0       0  \n",
        "1       0  \n",
        "2       0  \n",
        "3       0  \n",
        "4       1  \n",
        "\n",
        "[5 rows x 40 columns]"
       ]
      }
     ],
     "prompt_number": 442
    },
    {
     "cell_type": "heading",
     "level": 3,
     "metadata": {},
     "source": [
      "Now split sample to training and test data sets"
     ]
    },
    {
     "cell_type": "code",
     "collapsed": false,
     "input": [
      "data_training = data.iloc[:36]\n",
      "data_test = data.iloc[36:]"
     ],
     "language": "python",
     "metadata": {},
     "outputs": [],
     "prompt_number": 443
    },
    {
     "cell_type": "heading",
     "level": 4,
     "metadata": {},
     "source": [
      "Lets also define the features and the target"
     ]
    },
    {
     "cell_type": "code",
     "collapsed": false,
     "input": [
      "features = data.columns[2:].values.tolist()\n",
      "target = 'QUANTITY'"
     ],
     "language": "python",
     "metadata": {},
     "outputs": [],
     "prompt_number": 444
    },
    {
     "cell_type": "heading",
     "level": 3,
     "metadata": {},
     "source": [
      "Let's first try the Ordinary Least Square method"
     ]
    },
    {
     "cell_type": "code",
     "collapsed": false,
     "input": [
      "from sklearn import linear_model\n",
      "ols = linear_model.LinearRegression()\n",
      "ols.fit(data_training[features], data_training[target])"
     ],
     "language": "python",
     "metadata": {},
     "outputs": [
      {
       "metadata": {},
       "output_type": "pyout",
       "prompt_number": 445,
       "text": [
        "LinearRegression(copy_X=True, fit_intercept=True, normalize=False)"
       ]
      }
     ],
     "prompt_number": 445
    },
    {
     "cell_type": "heading",
     "level": 4,
     "metadata": {},
     "source": [
      "Coefficient:"
     ]
    },
    {
     "cell_type": "code",
     "collapsed": false,
     "input": [
      "ols.intercept_"
     ],
     "language": "python",
     "metadata": {},
     "outputs": [
      {
       "metadata": {},
       "output_type": "pyout",
       "prompt_number": 446,
       "text": [
        "33274.999923343596"
       ]
      }
     ],
     "prompt_number": 446
    },
    {
     "cell_type": "code",
     "collapsed": false,
     "input": [
      "print ['%.0f' % f for f in ols.coef_]"
     ],
     "language": "python",
     "metadata": {},
     "outputs": [
      {
       "output_type": "stream",
       "stream": "stdout",
       "text": [
        "['-2204', '52', '97139', '-103430', '27037', '-1153', '2664', '-801', '23934', '-33032', '10389', '-18254', '4404', '3062', '-18536', '16507', '-517', '-11576', '22217', '-4286', '4047', '4654', '225', '-15591', '18433', '-2314', '-39917', '31905', '-5003', '-66642', '58465', '-6690', '28126', '-41790', '17238', '18423', '-1772', '1217']\n"
       ]
      }
     ],
     "prompt_number": 447
    },
    {
     "cell_type": "heading",
     "level": 4,
     "metadata": {},
     "source": [
      "Score"
     ]
    },
    {
     "cell_type": "code",
     "collapsed": false,
     "input": [
      "ols.score(data_test[features], data_test[target])"
     ],
     "language": "python",
     "metadata": {},
     "outputs": [
      {
       "metadata": {},
       "output_type": "pyout",
       "prompt_number": 448,
       "text": [
        "-1.8757580471290254"
       ]
      }
     ],
     "prompt_number": 448
    },
    {
     "cell_type": "code",
     "collapsed": false,
     "input": [
      "ols.score(data_training[features], data_training[target])"
     ],
     "language": "python",
     "metadata": {},
     "outputs": [
      {
       "metadata": {},
       "output_type": "pyout",
       "prompt_number": 449,
       "text": [
        "1.0"
       ]
      }
     ],
     "prompt_number": 449
    },
    {
     "cell_type": "code",
     "collapsed": false,
     "input": [
      "plot_regression(data, ols, features)"
     ],
     "language": "python",
     "metadata": {},
     "outputs": [
      {
       "metadata": {},
       "output_type": "display_data",
       "png": "[encoded data removed]",
       "text": [
        "<matplotlib.figure.Figure at 0x109dd6310>"
       ]
      }
     ],
     "prompt_number": 450
    },
    {
     "cell_type": "heading",
     "level": 3,
     "metadata": {},
     "source": [
      "Next, Lets try Ridge Regression Method"
     ]
    },
    {
     "cell_type": "code",
     "collapsed": false,
     "input": [
      "ridge = linear_model.RidgeCV(alphas=[0.00000001, 0.001, 0.005, 0.01, 0.1, 1, 10, 100, 1000, 10000, 20000])\n",
      "ridge.fit(data_training[features], data_training[target])"
     ],
     "language": "python",
     "metadata": {},
     "outputs": [
      {
       "metadata": {},
       "output_type": "pyout",
       "prompt_number": 451,
       "text": [
        "RidgeCV(alphas=[1e-08, 0.001, 0.005, 0.01, 0.1, 1, 10, 100, 1000, 10000, 20000],\n",
        "    cv=None, fit_intercept=True, gcv_mode=None, loss_func=None,\n",
        "    normalize=False, score_func=None, scoring=None, store_cv_values=False)"
       ]
      }
     ],
     "prompt_number": 451
    },
    {
     "cell_type": "code",
     "collapsed": false,
     "input": [
      "ridge.alpha_"
     ],
     "language": "python",
     "metadata": {},
     "outputs": [
      {
       "metadata": {},
       "output_type": "pyout",
       "prompt_number": 452,
       "text": [
        "1e-08"
       ]
      }
     ],
     "prompt_number": 452
    },
    {
     "cell_type": "code",
     "collapsed": false,
     "input": [
      "ridge.intercept_"
     ],
     "language": "python",
     "metadata": {},
     "outputs": [
      {
       "metadata": {},
       "output_type": "pyout",
       "prompt_number": 453,
       "text": [
        "33274.9996459998"
       ]
      }
     ],
     "prompt_number": 453
    },
    {
     "cell_type": "code",
     "collapsed": false,
     "input": [
      "print ['%.0f' % f for f in ridge.coef_]"
     ],
     "language": "python",
     "metadata": {},
     "outputs": [
      {
       "output_type": "stream",
       "stream": "stdout",
       "text": [
        "['-2204', '52', '97139', '-103430', '27037', '-1153', '2664', '-801', '23934', '-33032', '10389', '-18254', '4404', '3062', '-18536', '16507', '-517', '-11576', '22217', '-4286', '4047', '4654', '225', '-15591', '18433', '-2314', '-39917', '31905', '-5003', '-66642', '58465', '-6690', '28126', '-41790', '17238', '18423', '-1772', '1217']\n"
       ]
      }
     ],
     "prompt_number": 454
    },
    {
     "cell_type": "code",
     "collapsed": false,
     "input": [
      "ridge.score(data_test[features], data_test[target])"
     ],
     "language": "python",
     "metadata": {},
     "outputs": [
      {
       "metadata": {},
       "output_type": "pyout",
       "prompt_number": 455,
       "text": [
        "-1.8757568137463103"
       ]
      }
     ],
     "prompt_number": 455
    },
    {
     "cell_type": "code",
     "collapsed": false,
     "input": [
      "ridge.score(data_training[features], data_training[target])"
     ],
     "language": "python",
     "metadata": {},
     "outputs": [
      {
       "metadata": {},
       "output_type": "pyout",
       "prompt_number": 456,
       "text": [
        "0.99999999999997635"
       ]
      }
     ],
     "prompt_number": 456
    },
    {
     "cell_type": "code",
     "collapsed": false,
     "input": [
      "plot_regression(data, ridge, features)"
     ],
     "language": "python",
     "metadata": {},
     "outputs": [
      {
       "metadata": {},
       "output_type": "display_data",
       "png": "[encoded data removed]",
       "text": [
        "<matplotlib.figure.Figure at 0x109eba410>"
       ]
      }
     ],
     "prompt_number": 457
    },
    {
     "cell_type": "heading",
     "level": 3,
     "metadata": {},
     "source": [
      "Lasso Regression"
     ]
    },
    {
     "cell_type": "code",
     "collapsed": false,
     "input": [
      "lasso = linear_model.LassoCV(alphas=[0.001, 0.005, 0.01, 0.1, 1, 10, 100, 1000, 10000, 20000])\n",
      "lasso.fit(data_training[features], data_training[target])"
     ],
     "language": "python",
     "metadata": {},
     "outputs": [
      {
       "metadata": {},
       "output_type": "pyout",
       "prompt_number": 458,
       "text": [
        "LassoCV(alphas=[0.001, 0.005, 0.01, 0.1, 1, 10, 100, 1000, 10000, 20000],\n",
        "    copy_X=True, cv=None, eps=0.001, fit_intercept=True, max_iter=1000,\n",
        "    n_alphas=100, n_jobs=1, normalize=False, positive=False,\n",
        "    precompute='auto', tol=0.0001, verbose=False)"
       ]
      }
     ],
     "prompt_number": 458
    },
    {
     "cell_type": "code",
     "collapsed": false,
     "input": [
      "lasso.alpha_"
     ],
     "language": "python",
     "metadata": {},
     "outputs": [
      {
       "metadata": {},
       "output_type": "pyout",
       "prompt_number": 459,
       "text": [
        "1000.0"
       ]
      }
     ],
     "prompt_number": 459
    },
    {
     "cell_type": "code",
     "collapsed": false,
     "input": [
      "lasso2 = linear_model.Lasso(alpha=0.001)\n",
      "lasso2.fit(data_training[features],data_training[target])\n",
      "lasso2.score(data_training[features],data_training[target])"
     ],
     "language": "python",
     "metadata": {},
     "outputs": [
      {
       "metadata": {},
       "output_type": "pyout",
       "prompt_number": 460,
       "text": [
        "0.9999232490536123"
       ]
      }
     ],
     "prompt_number": 460
    },
    {
     "cell_type": "code",
     "collapsed": false,
     "input": [
      "lasso.intercept_\n",
      "print ['%.0f' % f for f in lasso.coef_]"
     ],
     "language": "python",
     "metadata": {},
     "outputs": [
      {
       "output_type": "stream",
       "stream": "stdout",
       "text": [
        "['-1462', '53', '0', '0', '534', '-0', '-0', '-1747', '-0', '-0', '-196', '-0', '-0', '-0', '-0', '0', '75', '0', '-0', '-0', '0', '-0', '-0', '0', '0', '390', '-0', '-0', '-200', '-0', '0', '3209', '0', '0', '3737', '0', '0', '922']\n"
       ]
      }
     ],
     "prompt_number": 461
    },
    {
     "cell_type": "code",
     "collapsed": false,
     "input": [
      "lasso.score(data_test[features], data_test[target])"
     ],
     "language": "python",
     "metadata": {},
     "outputs": [
      {
       "metadata": {},
       "output_type": "pyout",
       "prompt_number": 462,
       "text": [
        "0.042411849584188865"
       ]
      }
     ],
     "prompt_number": 462
    },
    {
     "cell_type": "code",
     "collapsed": false,
     "input": [
      "lasso.score(data_training[features], data_training[target])"
     ],
     "language": "python",
     "metadata": {},
     "outputs": [
      {
       "metadata": {},
       "output_type": "pyout",
       "prompt_number": 463,
       "text": [
        "0.69884252772642363"
       ]
      }
     ],
     "prompt_number": 463
    },
    {
     "cell_type": "code",
     "collapsed": false,
     "input": [
      "plot_regression(data, lasso, features)"
     ],
     "language": "python",
     "metadata": {},
     "outputs": [
      {
       "metadata": {},
       "output_type": "display_data",
       "png": "[encoded data removed]",
       "text": [
        "<matplotlib.figure.Figure at 0x109bc0310>"
       ]
      }
     ],
     "prompt_number": 464
    },
    {
     "cell_type": "heading",
     "level": 3,
     "metadata": {},
     "source": [
      "ElasticNet Regression"
     ]
    },
    {
     "cell_type": "code",
     "collapsed": false,
     "input": [
      "enet = linear_model.ElasticNetCV(alphas = [0.001, 0.005, 0.01, 0.05, 0.1, 0.5, 1, 10, 100, 1000, 10000, 20000], l1_ratio=[0.1, 0.3, 0.5, 0.7, 0.8, 0.9, 0.95, 0.99, 1])\n",
      "enet.fit(data_training[features], data_training[target])"
     ],
     "language": "python",
     "metadata": {},
     "outputs": [
      {
       "metadata": {},
       "output_type": "pyout",
       "prompt_number": 465,
       "text": [
        "ElasticNetCV(alphas=[0.001, 0.005, 0.01, 0.05, 0.1, 0.5, 1, 10, 100, 1000, 10000, 20000],\n",
        "       copy_X=True, cv=None, eps=0.001, fit_intercept=True,\n",
        "       l1_ratio=[0.1, 0.3, 0.5, 0.7, 0.8, 0.9, 0.95, 0.99, 1],\n",
        "       max_iter=1000, n_alphas=100, n_jobs=1, normalize=False,\n",
        "       positive=False, precompute='auto', tol=0.0001, verbose=0)"
       ]
      }
     ],
     "prompt_number": 465
    },
    {
     "cell_type": "code",
     "collapsed": false,
     "input": [
      "print enet.alpha_\n",
      "print enet.l1_ratio_"
     ],
     "language": "python",
     "metadata": {},
     "outputs": [
      {
       "output_type": "stream",
       "stream": "stdout",
       "text": [
        "0.5\n",
        "0.7\n"
       ]
      }
     ],
     "prompt_number": 466
    },
    {
     "cell_type": "code",
     "collapsed": false,
     "input": [
      "enet.intercept_\n",
      "print ['%.0f' % f for f in enet.coef_]"
     ],
     "language": "python",
     "metadata": {},
     "outputs": [
      {
       "output_type": "stream",
       "stream": "stdout",
       "text": [
        "['-1655', '63', '1546', '512', '33', '142', '-462', '-2339', '-554', '-919', '-661', '-2042', '-1733', '49', '-733', '-523', '79', '716', '426', '-1248', '719', '331', '-1100', '677', '716', '113', '-1233', '-921', '-341', '-1598', '-140', '3332', '-334', '219', '3502', '2694', '2173', '-293']\n"
       ]
      }
     ],
     "prompt_number": 467
    },
    {
     "cell_type": "code",
     "collapsed": false,
     "input": [
      "enet.score(data_test[features], data_test[target])"
     ],
     "language": "python",
     "metadata": {},
     "outputs": [
      {
       "metadata": {},
       "output_type": "pyout",
       "prompt_number": 468,
       "text": [
        "-0.074209043466504587"
       ]
      }
     ],
     "prompt_number": 468
    },
    {
     "cell_type": "code",
     "collapsed": false,
     "input": [
      "enet.score(data[features], data[target])"
     ],
     "language": "python",
     "metadata": {},
     "outputs": [
      {
       "metadata": {},
       "output_type": "pyout",
       "prompt_number": 469,
       "text": [
        "0.54058139345772904"
       ]
      }
     ],
     "prompt_number": 469
    },
    {
     "cell_type": "code",
     "collapsed": false,
     "input": [
      "plot_regression(data, enet, features)"
     ],
     "language": "python",
     "metadata": {},
     "outputs": [
      {
       "metadata": {},
       "output_type": "display_data",
       "png": "[encoded data removed]",
       "text": [
        "<matplotlib.figure.Figure at 0x109af0150>"
       ]
      }
     ],
     "prompt_number": 470
    },
    {
     "cell_type": "code",
     "collapsed": false,
     "input": [],
     "language": "python",
     "metadata": {},
     "outputs": [],
     "prompt_number": 470
    }
   ],
   "metadata": {}
  }
 ]
}